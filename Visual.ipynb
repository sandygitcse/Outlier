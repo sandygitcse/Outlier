{
 "cells": [
  {
   "cell_type": "code",
   "execution_count": 50,
   "metadata": {},
   "outputs": [
    {
     "name": "stdout",
     "output_type": "stream",
     "text": [
      "(169, 50, 1) (169, 50, 1) (169, 100, 1)\n",
      "mse :  0.025508024 mae:  0.058827866\n"
     ]
    }
   ],
   "source": [
    "import numpy as np\n",
    "import pandas as pd\n",
    "import os\n",
    "import matplotlib.pyplot as plt\n",
    "import seaborn as sns\n",
    "from sklearn.metrics import mean_squared_error,mean_absolute_error\n",
    "path = \"Results/gecco/gecco_ip_100_op_50_robust_1/gecco/\"\n",
    "preds = np.load(path+'trans-mse-ar_pred_mu.npy')\n",
    "inputs = np.load(path+'inputs.npy')\n",
    "trues = np.load(path+'targets.npy')\n",
    "#preds = preds.reshape(-1, preds.shape[-2], preds.shape[-1])\n",
    "#trues = trues.reshape(-1, preds.shape[-2], preds.shape[-1])\n",
    "# [samples, pred_len, dimensions]\n",
    "print(preds.shape, trues.shape, inputs.shape)\n",
    "\n",
    "print(\"mse : \",mean_squared_error(trues.squeeze(),preds.squeeze()),\"mae: \",mean_absolute_error(trues.squeeze(),preds.squeeze()))"
   ]
  },
  {
   "cell_type": "code",
   "execution_count": 2,
   "metadata": {},
   "outputs": [],
   "source": [
    "# x = preds.reshape(54,13,-1,1)\n",
    "# preds = x.mean(axis=1)\n",
    "# preds.shape\n",
    "# x = trues.reshape(54,13,-1,1)\n",
    "# trues = x.mean(axis=1)\n",
    "# trues.shape\n",
    "\n",
    "# print(\"mse : \",mean_squared_error(trues.squeeze(),preds.squeeze()),\"mae: \",mean_absolute_error(trues.squeeze(),preds.squeeze()))"
   ]
  },
  {
   "cell_type": "code",
   "execution_count": null,
   "metadata": {},
   "outputs": [],
   "source": [
    "plt.rcParams['figure.figsize'] = (12,4)\n",
    "x = np.arange(inputs.shape[1]+preds.shape[1])\n",
    "a = inputs.shape[1]\n",
    "\n",
    "for i in range(100,168):\n",
    "    plt.figure()\n",
    "    c =i \n",
    "    plt.plot(x[:a],inputs[c],label='input '+str(c))\n",
    "    plt.plot(x[a:],trues[c,:,0], label='GroundTruth '+str(c))\n",
    "    #for i in range(1):\n",
    "\n",
    "    plt.plot(x[a:],preds[c,:,0], label='Prediction '+str(mean_squared_error(preds[c,:,0],trues[c,:,0])))\n",
    "    \n",
    "    plt.legend()\n",
    "    # fig = plt.figure()\n",
    "    # plt.savefig(\"images/trans-mse_test_\"+str(i)+\".png\")\n",
    "    \n",
    "    # plt.show()"
   ]
  },
  {
   "cell_type": "code",
   "execution_count": 76,
   "metadata": {},
   "outputs": [
    {
     "name": "stdout",
     "output_type": "stream",
     "text": [
      "(169, 50) (169, 50)\n"
     ]
    }
   ],
   "source": [
    "import numpy as np\n",
    "import pandas as pd\n",
    "import os\n",
    "import matplotlib.pyplot as plt\n",
    "import seaborn as sns\n",
    "from sklearn.metrics import mean_squared_error,mean_absolute_error\n",
    "path = \"Results/gecco/gecco_ip_100_op_50_robust_1/gecco/\"\n",
    "preds = np.load(path+'trans-mse-ar_pred_mu.npy')\n",
    "inputs = np.load(path+'inputs.npy')\n",
    "trues = np.load(path+'targets.npy')\n",
    "new_preds = preds.squeeze()\n",
    "new_trues = trues.squeeze()\n",
    "N_input = 480\n",
    "print(new_preds.shape,new_trues.shape)\n",
    "n = (N_input-1)//50 + 1\n",
    "l = new_preds.shape[0]\n",
    "final = []\n",
    "for line in range(0,l,n-1):\n",
    "    chunk = dict()\n",
    "    chunk['preds'] = new_preds[line:line+n]\n",
    "    chunk['trues'] = new_trues[line:line+n]\n",
    "    chunk['mask'] = np.zeros_like(new_trues[line:line+n])\n",
    "    chunk['mse'] = [mean_squared_error(i,j) for i,j in zip(new_preds[line:line+n],new_trues[line:line+n])]\n",
    "    final.append(chunk)\n",
    "mse = [mean_squared_error(i,j) for i,j in zip(new_preds,new_trues)]\n",
    "for j,line in enumerate(final):\n",
    "    # print(sorted(line['mse'],reverse=True))\n",
    "    if True in list((np.quantile(mse,0.75)+stats.iqr(mse,interpolation='midpoint')*1.5)<line['mse']):\n",
    "        # print(np.argsort(line['mse'])[-1])\n",
    "        i = np.argsort(line['mse'])[-1]\n",
    "        final[j]['mask'][i]=1\n",
    "mask = final[0]['mask'].flatten()\n",
    "for line in final[1:]:\n",
    "    mask=np.hstack((mask,line['mask'][1:].flatten()))\n",
    "np.save(\"/mnt/a99/d0/sandy/Forecasting/data/water_quality/mask_gecco.npy\",mask)"
   ]
  },
  {
   "cell_type": "code",
   "execution_count": 75,
   "metadata": {},
   "outputs": [
    {
     "name": "stdout",
     "output_type": "stream",
     "text": [
      "/mnt/a99/d0/sandy/Forecasting/Outlier\n"
     ]
    }
   ],
   "source": [
    "\n",
    "!pwd"
   ]
  },
  {
   "cell_type": "code",
   "execution_count": null,
   "metadata": {},
   "outputs": [],
   "source": []
  }
 ],
 "metadata": {
  "interpreter": {
   "hash": "547999772b589b5df1d7d375f800bcda02c498bbed60e34708470f468fb2bfbb"
  },
  "kernelspec": {
   "display_name": "Python 3.9.12 ('base')",
   "language": "python",
   "name": "python3"
  },
  "language_info": {
   "codemirror_mode": {
    "name": "ipython",
    "version": 3
   },
   "file_extension": ".py",
   "mimetype": "text/x-python",
   "name": "python",
   "nbconvert_exporter": "python",
   "pygments_lexer": "ipython3",
   "version": "3.9.12"
  },
  "orig_nbformat": 4
 },
 "nbformat": 4,
 "nbformat_minor": 2
}
