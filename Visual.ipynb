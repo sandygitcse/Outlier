{
 "cells": [
  {
   "cell_type": "code",
   "execution_count": 6,
   "metadata": {},
   "outputs": [],
   "source": [
    "path = \"Results/Masked/electricity_nhead_1_mask_1_options_all/electricity/\"\n",
    "# path = \"aaai_Outputs_electricity_e336_d168_testprune_2_rp/electricity/\"\n",
    "# path = \"Outputs_electricity_e336_d168_original_huber/electricity/\"\n",
    "#path = \"Outputs_synthetic/foodinflation/\""
   ]
  },
  {
   "cell_type": "code",
   "execution_count": 7,
   "metadata": {},
   "outputs": [
    {
     "name": "stdout",
     "output_type": "stream",
     "text": [
      "(54, 168, 1) (54, 168, 1) (54, 336, 1)\n",
      "mse :  6635.095 mae:  57.86075\n"
     ]
    }
   ],
   "source": [
    "import numpy as np\n",
    "import matplotlib.pyplot as plt\n",
    "import seaborn as sns\n",
    "from sklearn.metrics import mean_squared_error,mean_absolute_error\n",
    "preds = np.load(path+'trans-mse-ar_pred_mu.npy')\n",
    "inputs = np.load(path+'inputs.npy')\n",
    "trues = np.load(path+'targets.npy')\n",
    "#preds = preds.reshape(-1, preds.shape[-2], preds.shape[-1])\n",
    "#trues = trues.reshape(-1, preds.shape[-2], preds.shape[-1])\n",
    "# [samples, pred_len, dimensions]\n",
    "print(preds.shape, trues.shape, inputs.shape)\n",
    "\n",
    "print(\"mse : \",mean_squared_error(trues.squeeze(),preds.squeeze()),\"mae: \",mean_absolute_error(trues.squeeze(),preds.squeeze()))"
   ]
  },
  {
   "cell_type": "code",
   "execution_count": null,
   "metadata": {},
   "outputs": [],
   "source": [
    "plt.rcParams['figure.figsize'] = (12,4)\n",
    "for i in range(54):\n",
    "    plt.figure()\n",
    "    c =i \n",
    "    x = np.arange(504)\n",
    "    a = 336\n",
    "    plt.plot(x[:a],inputs[c],label='input '+str(c))\n",
    "    plt.plot(x[a:],trues[c,:,0], label='GroundTruth '+str(c))\n",
    "    #for i in range(1):\n",
    "\n",
    "    plt.plot(x[a:],preds[c,:,0], label='Prediction ')\n",
    "    \n",
    "    plt.legend()\n",
    "    # fig = plt.figure()\n",
    "    # plt.savefig(\"images/trans-mse_test_\"+str(i)+\".png\")\n",
    "    \n",
    "    # plt.show()"
   ]
  },
  {
   "cell_type": "code",
   "execution_count": 7,
   "metadata": {},
   "outputs": [],
   "source": [
    "preds_original = np.load(\"Results/march/Outputs/Output_original_point_0.2_per/electricity/\"+'TRANS-MSE-AR_pred_mu.npy')\n",
    "preds_train = np.load(\"Results/march/Outputs/Output_synthetic_train_point_0.2_per/electricity/\"+'TRANS-MSE-AR_pred_mu.npy')\n",
    "preds_test = np.load(\"Results/march/Outputs/Output_synthetic_test_point_0.2_per/electricity/\"+'TRANS-MSE-AR_pred_mu.npy')\n",
    "preds_both = np.load(\"Results/march/Outputs/Output_synthetic_both_point_0.2_per/electricity/\"+'TRANS-MSE-AR_pred_mu.npy')\n",
    "trues = np.load(\"Results/march/Outputs/Output_original_point_0.2_per/electricity/\"+'targets.npy')\n"
   ]
  },
  {
   "cell_type": "code",
   "execution_count": null,
   "metadata": {},
   "outputs": [],
   "source": [
    "print(\"original\\t\\ttrain\\t\\ttest\\t\\tboth\")\n",
    "for i in range(len(trues)):\n",
    "    print(f\"{mean_squared_error(trues.squeeze()[i,:],preds_original.squeeze())[i,:]:0.2f}, {mean_squared_error(trues.squeeze()[i,:],preds_train.squeeze()[i,:]):0.2f}, {mean_squared_error(trues.squeeze()[i,:],preds_test.squeeze()[i,:]):0.2f}, {mean_squared_error(trues.squeeze()[i,:],preds_both.squeeze()[i,:]):0.2f}\")"
   ]
  },
  {
   "cell_type": "code",
   "execution_count": 3,
   "metadata": {},
   "outputs": [
    {
     "name": "stdout",
     "output_type": "stream",
     "text": [
      "tensor([ True,  True, False, False,  True])\n"
     ]
    }
   ],
   "source": [
    "import torch\n",
    "ex_mask = torch.tensor([1,1,0,0,1],dtype=bool)\n",
    "print(ex_mask)\n",
    "# ex_mask = attn_mask.masked_fill(ex_mask==True,value=True)\n",
    "# print(ex_mask)"
   ]
  },
  {
   "cell_type": "code",
   "execution_count": null,
   "metadata": {},
   "outputs": [],
   "source": [
    "ex_mask = torch.tensor(ex_mask,dtype=bool)\n",
    "head1 = ex_mask * ex_mask.unsqueeze(-1)\n",
    "head2 = torch.zeros_like(head1)==1\n",
    "ex = torch.stack((head1,head2))\n",
    "# ex_mask = torch.tensor(ex,dtype=bool)\n",
    "print(ex)"
   ]
  },
  {
   "cell_type": "code",
   "execution_count": 27,
   "metadata": {},
   "outputs": [],
   "source": [
    "import numpy as np \n",
    "x= np.random.randn(3,5,13)\n",
    "ds = np.array([np.repeat([[1,1,1,1]],5,axis=0),np.repeat([[2,2,2,2]],5,axis=0),np.repeat([[3,3,3,3]],5,axis=0)])"
   ]
  },
  {
   "cell_type": "code",
   "execution_count": 14,
   "metadata": {},
   "outputs": [],
   "source": [
    "import pandas as pd \n",
    "import os\n",
    "from matplotlib import pyplot as plt\n",
    "plt.rcParams['figure.figsize']=(20,5)\n",
    "DATA_DIRS = '/mnt/cat/data/sandy/Forecasting/'\n",
    "df_inject   = pd.read_csv(\n",
    "        os.path.join(DATA_DIRS, 'data', 'electricity_load_forecasting_panama', '2_percent_electricity.csv')\n",
    "    )\n",
    "data_mask = df_inject[['label']].to_numpy()\n",
    "n = (1903 + 1) * 24 # Select first n=1904*24 entries because of non-stationarity in the data after first n values\n",
    "data_mask = data_mask[:, :n]\n",
    "N_output = 168\n",
    "units = n//N_output\n",
    "dev_len = int(0.2*units) * N_output\n",
    "test_len = int(0.2*units) * N_output\n",
    "train_len = n - dev_len - test_len"
   ]
  },
  {
   "cell_type": "code",
   "execution_count": 15,
   "metadata": {},
   "outputs": [
    {
     "data": {
      "text/plain": [
       "[<matplotlib.lines.Line2D at 0x7f75e3978400>]"
      ]
     },
     "execution_count": 15,
     "metadata": {},
     "output_type": "execute_result"
    },
    {
     "data": {
      "image/png": "[encoded data removed]",
      "text/plain": [
       "<Figure size 1440x360 with 1 Axes>"
      ]
     },
     "metadata": {
      "needs_background": "light"
     },
     "output_type": "display_data"
    }
   ],
   "source": [
    "plt.plot(data_mask)\n",
    "\n",
    "# data_mask.shape\n"
   ]
  },
  {
   "cell_type": "code",
   "execution_count": null,
   "metadata": {},
   "outputs": [],
   "source": []
  }
 ],
 "metadata": {
  "interpreter": {
   "hash": "ecc9dc54491fd34d033b027f804277f02397d2b5e9128bbd5ee04d8a2507ba5a"
  },
  "kernelspec": {
   "display_name": "Python 3.6.13 64-bit ('telemanom': conda)",
   "name": "python3"
  },
  "language_info": {
   "codemirror_mode": {
    "name": "ipython",
    "version": 3
   },
   "file_extension": ".py",
   "mimetype": "text/x-python",
   "name": "python",
   "nbconvert_exporter": "python",
   "pygments_lexer": "ipython3",
   "version": "3.6.13"
  },
  "orig_nbformat": 4
 },
 "nbformat": 4,
 "nbformat_minor": 2
}
